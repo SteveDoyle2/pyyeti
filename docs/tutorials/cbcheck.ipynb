{
 "cells": [
  {
   "cell_type": "markdown",
   "metadata": {},
   "source": [
    "# Using `cb.cbcheck` to check mass and stiffness\n",
    "\n",
    "First, we need a valid Hurty-Craig-Bampton model to work with. Specifically, we need:\n",
    "\n",
    "* a-set mass and stiffness\n",
    "* b-set \"uset\" table (see description in `op2.rdnas2cam`)\n",
    "    * Note: this is only needed for statically indeterminate interfaces\n",
    "* b-set partition vector (relative to a-set)\n",
    "\n",
    "We'll use superelement 102 from the test directory: \"pyyeti/tests/nas2cam_csuper\".\n",
    "\n",
    "Asides:\n",
    "\n",
    "* \"nas2cam\" stood for Nastran-to-CAM ... CAM is now replaced with Python but the Nastran DMAP retains the old name.\n",
    "* This and other jupyter notebooks are available here: ``kittyhawk:/home/loads/twidrick/code/pyyeti/docs/tutorials``.\n",
    "* To run this jupyter notebook, you may want to widen it. In ``~/.ipython/profile_default/static/custom/custom.css``, add ``.container { width:90% !important; }``.\n",
    "\n",
    ".. image:: se102.png\n",
    "<img src=\"./se102.png\" />"
   ]
  },
  {
   "cell_type": "markdown",
   "metadata": {},
   "source": [
    "---\n",
    "First, do some imports:"
   ]
  },
  {
   "cell_type": "code",
   "execution_count": 1,
   "metadata": {
    "collapsed": true
   },
   "outputs": [],
   "source": [
    "import numpy as np\n",
    "from pyyeti import op4, nastran, cb\n",
    "from io import StringIO"
   ]
  },
  {
   "cell_type": "markdown",
   "metadata": {},
   "source": [
    "Need path to data files:"
   ]
  },
  {
   "cell_type": "code",
   "execution_count": 2,
   "metadata": {
    "collapsed": false
   },
   "outputs": [],
   "source": [
    "import os\n",
    "import inspect\n",
    "pth = os.path.dirname(inspect.getfile(cb))\n",
    "pth = os.path.join(pth, 'tests')\n",
    "pth = os.path.join(pth, 'nas2cam_csuper')"
   ]
  },
  {
   "cell_type": "markdown",
   "metadata": {},
   "source": [
    "#### Load the mass and stiffness from the .op4 file\n",
    "\n",
    "This loads the data into a dict:"
   ]
  },
  {
   "cell_type": "code",
   "execution_count": 3,
   "metadata": {
    "collapsed": false
   },
   "outputs": [
    {
     "data": {
      "text/plain": [
       "dict_keys(['mug1', 'mqmgb', 'va', 'mgpfb', 'bxx1', 'mqgk', 'mef1o', 'mgpfm', 'mee1o', 'kxx', 'mqmgk', 'mug1o', 'k4xx1', 'mqg1o', 'px1', 'mqgb', 'mqmg1o', 'mgpfk', 'mxx', 'mes1', 'mgpfo', 'rvax', 'mee1', 'gdxx', 'mqgm', 'mqmgm', 'mes1o', 'mef1', 'gpxx'])"
      ]
     },
     "execution_count": 3,
     "metadata": {},
     "output_type": "execute_result"
    }
   ],
   "source": [
    "mk = op4.load(os.path.join(pth, 'inboard.op4'))\n",
    "mk.keys()"
   ]
  },
  {
   "cell_type": "code",
   "execution_count": 4,
   "metadata": {
    "collapsed": true
   },
   "outputs": [],
   "source": [
    "maa = mk['mxx'][0]\n",
    "kaa = mk['kxx'][0]"
   ]
  },
  {
   "cell_type": "markdown",
   "metadata": {
    "collapsed": true
   },
   "source": [
    "#### Get the USET table\n",
    "The USET table has the boundary DOF information (id, location, coordinate system). This is needed for superelements with an indeterminate interface. The `nastran` module has the function `bulk2uset` which is handy for forming the USET table from bulk data. "
   ]
  },
  {
   "cell_type": "code",
   "execution_count": 5,
   "metadata": {
    "collapsed": false
   },
   "outputs": [
    {
     "data": {
      "text/plain": [
       "array([[   3.,  600.,    0.,  300.],\n",
       "       [  11.,  600.,  300.,  300.],\n",
       "       [  19.,  600.,  300.,    0.],\n",
       "       [  27.,  600.,    0.,    0.]])"
      ]
     },
     "execution_count": 5,
     "metadata": {},
     "output_type": "execute_result"
    }
   ],
   "source": [
    "uset, coords = nastran.bulk2uset(os.path.join(pth, 'inboard.asm'))\n",
    "uset[::6, [0, 3, 4, 5]]"
   ]
  },
  {
   "cell_type": "markdown",
   "metadata": {},
   "source": [
    "#### Form b-set partition vector into a-set\n",
    "In this case, we already know the b-set are first:"
   ]
  },
  {
   "cell_type": "code",
   "execution_count": 6,
   "metadata": {
    "collapsed": false
   },
   "outputs": [
    {
     "data": {
      "text/plain": [
       "array([ 0,  1,  2,  3,  4,  5,  6,  7,  8,  9, 10, 11, 12, 13, 14, 15, 16,\n",
       "       17, 18, 19, 20, 21, 22, 23])"
      ]
     },
     "execution_count": 6,
     "metadata": {},
     "output_type": "execute_result"
    }
   ],
   "source": [
    "b = np.arange(uset.shape[0])\n",
    "b"
   ]
  },
  {
   "cell_type": "markdown",
   "metadata": {},
   "source": [
    "---\n",
    "#### Run cbcheck\n",
    "\n",
    "Write to a string so we can look at the output a section at a time. The `em_filt` option filters the effective mass table print to only modes with 2% or higher values."
   ]
  },
  {
   "cell_type": "code",
   "execution_count": 7,
   "metadata": {
    "collapsed": false
   },
   "outputs": [],
   "source": [
    "with StringIO() as f:\n",
    "    chk = cb.cbcheck(f, maa, kaa, b, b[:6], uset, em_filt=2)\n",
    "    output = f.getvalue().splitlines()"
   ]
  },
  {
   "cell_type": "markdown",
   "metadata": {},
   "source": [
    "First, a note on *possible* output from `cbcheck` about iterations and convergence. That is information from the \"subspace iteration\" eigensolver (`pyyeti.ytools.eig_si`). That routine is called to clean up the lowest frequency modes that are computed by `scipy.la.eigh` -- which can be slightly off. That output is not produced for this case, since a more general eigensolver is called; this is because (as we'll see) the mass fails the positive-definite check and the stiffness fails the symmetry check. "
   ]
  },
  {
   "cell_type": "markdown",
   "metadata": {},
   "source": [
    "Define a simple printing function for cleaner output viewing:"
   ]
  },
  {
   "cell_type": "code",
   "execution_count": 8,
   "metadata": {
    "collapsed": true
   },
   "outputs": [],
   "source": [
    "def prt(lines):\n",
    "    print('\\n'.join(lines))"
   ]
  },
  {
   "cell_type": "markdown",
   "metadata": {},
   "source": [
    "---\n",
    "The first 12 lines contain summary information. In this case, we see a warning that the mass is not positive definite and the stiffness is not symmetric. This doesn't necessarily mean the model is bad; it could be that it's just a little off from perfect. Everything else is as it should be:"
   ]
  },
  {
   "cell_type": "code",
   "execution_count": 9,
   "metadata": {
    "collapsed": false
   },
   "outputs": [
    {
     "name": "stdout",
     "output_type": "stream",
     "text": [
      "Mass matrix is symmetric.\n",
      "Warning: mass matrix is not positive definite.\n",
      "Warning: stiffness matrix is not symmetric.\n",
      "\n",
      "Mass values check:\n",
      "\tMaximum value of MQQ-I            =           0  (should be zero)\n",
      "\n",
      "Stiffness values checks:\n",
      "\tMaximum value of KBB              = 3.80413e+09  (should be zero only if statically-determinate)\n",
      "\tMaximum value of KBQ              =           0  (should be zero)\n",
      "\tMaximum off-diagonal value of KQQ =           0  (should be zero)\n",
      "\tMinimum diagonal value of KQQ     =     1483.16  (should be > zero)\n"
     ]
    }
   ],
   "source": [
    "prt(output[:12])"
   ]
  },
  {
   "cell_type": "markdown",
   "metadata": {},
   "source": [
    "Since the stiffness didn't pass the symmetry check, it's worthwhile to print a check value. Comparing this value to the maximum KBB value (above) shows that the stiffness is *very* close to symmetric:"
   ]
  },
  {
   "cell_type": "code",
   "execution_count": 10,
   "metadata": {
    "collapsed": false
   },
   "outputs": [
    {
     "data": {
      "text/plain": [
       "5.9604644775390625e-07"
      ]
     },
     "execution_count": 10,
     "metadata": {},
     "output_type": "execute_result"
    }
   ],
   "source": [
    "abs(kaa-kaa.T).max()\n"
   ]
  },
  {
   "cell_type": "markdown",
   "metadata": {},
   "source": [
    "---\n",
    "The next section shows coordinate location information as computed from the stiffness. This first node is the reference and the others are relative to that node (and in the coordinate system of that node). The largest coordinate location error is printed for inspection. Here, the error is very small.\n"
   ]
  },
  {
   "cell_type": "code",
   "execution_count": 11,
   "metadata": {
    "collapsed": false
   },
   "outputs": [
    {
     "name": "stdout",
     "output_type": "stream",
     "text": [
      "\n",
      "\n",
      "Stiffness-based coordinates relative to node starting at row/col 1 (after any reordering):\n",
      "  (Note:  locations are in local coordinate system of the reference node.)\n",
      "\n",
      "         Node      ID        X         Y         Z\n",
      "        ------  --------  --------  --------  --------\n",
      "             1         3      0.00      0.00      0.00\n",
      "             2        11      0.00    300.00     -0.00\n",
      "             3        19     -0.00    300.00   -300.00\n",
      "             4        27     -0.00      0.00   -300.00\n",
      "\n",
      "Maximum absolute coordinate location error:  2.46126e-09 units\n"
     ]
    }
   ],
   "source": [
    "prt(output[12:25])"
   ]
  },
  {
   "cell_type": "markdown",
   "metadata": {},
   "source": [
    "---\n",
    "The next section shows checks displacements results from rigid-body motion. All three types of rigid-body modes are used. Here everything is 1.000, perfect."
   ]
  },
  {
   "cell_type": "code",
   "execution_count": 12,
   "metadata": {
    "collapsed": false
   },
   "outputs": [
    {
     "name": "stdout",
     "output_type": "stream",
     "text": [
      "\n",
      "Solving generalized eigen problem.\n",
      "RB Translation Movement Check -- should all be 1.0s:\n",
      "\n",
      "\tNode          Stiffness-based        Geometry-based        Eigenvalue-based\n",
      "\t---------   -------------------    -------------------    -------------------\n",
      "\t       3    1.000  1.000  1.000    1.000  1.000  1.000    1.000  1.000  1.000\n",
      "\t      11    1.000  1.000  1.000    1.000  1.000  1.000    1.000  1.000  1.000\n",
      "\t      19    1.000  1.000  1.000    1.000  1.000  1.000    1.000  1.000  1.000\n",
      "\t      27    1.000  1.000  1.000    1.000  1.000  1.000    1.000  1.000  1.000\n",
      "\n",
      "\n",
      "RB Rotation Movement Check -- should all be 1.0s:\n",
      "\n",
      "\tNode          Stiffness-based        Geometry-based        Eigenvalue-based\n",
      "\t---------   -------------------    -------------------    -------------------\n",
      "\t       3    1.000  1.000  1.000    1.000  1.000  1.000    1.000  1.000  1.000\n",
      "\t      11    1.000  1.000  1.000    1.000  1.000  1.000    1.000  1.000  1.000\n",
      "\t      19    1.000  1.000  1.000    1.000  1.000  1.000    1.000  1.000  1.000\n",
      "\t      27    1.000  1.000  1.000    1.000  1.000  1.000    1.000  1.000  1.000\n",
      "\n",
      "\n"
     ]
    }
   ],
   "source": [
    "prt(output[25:47])"
   ]
  },
  {
   "cell_type": "markdown",
   "metadata": {
    "collapsed": true
   },
   "source": [
    "---\n",
    "The next section prints the 3 6x6 mass matrices for inspection. Information derived from these is printed afterwards. Note that the geometry reference point is different from the other two (see the `cbcheck` input). Since we didn't set it, the reference for the geometry-based rb modes is (0, 0, 0) in the basic system."
   ]
  },
  {
   "cell_type": "code",
   "execution_count": 13,
   "metadata": {
    "collapsed": false
   },
   "outputs": [
    {
     "name": "stdout",
     "output_type": "stream",
     "text": [
      "MASS PROPERTIES CHECKS:\n",
      "\n",
      "6x6 mass matrix from stiffness-based rb modes:\n",
      "\n",
      "\t      1.7551       -0.0000       -0.0000       -0.0000     -263.2578     -263.2578\n",
      "\t     -0.0000        1.7551       -0.0000      263.2578        0.0000      772.2199\n",
      "\t     -0.0000       -0.0000        1.7551      263.2578     -772.2199       -0.0000\n",
      "\t     -0.0000      263.2578      263.2578   114882.5343  -115832.9863   115832.9863\n",
      "\t   -263.2578        0.0000     -772.2199  -115832.9863   747465.3910    39598.2243\n",
      "\t   -263.2578      772.2199       -0.0000   115832.9863    39598.2243   747465.3910\n",
      "\n",
      "\n",
      "6x6 mass matrix from geometry-based rb modes:\n",
      "\n",
      "\t      1.7551        0.0000       -0.0000       -0.0000      263.2578     -263.2578\n",
      "\t      0.0000        1.7551       -0.0000     -263.2578        0.0000     1825.2510\n",
      "\t     -0.0000       -0.0000        1.7551      263.2578    -1825.2510       -0.0000\n",
      "\t     -0.0000     -263.2578      263.2578   114882.5343  -273787.6507  -273787.6507\n",
      "\t    263.2578        0.0000    -1825.2510  -273787.6507  2305947.9390   -39379.1078\n",
      "\t   -263.2578     1825.2510       -0.0000  -273787.6507   -39379.1078  2305947.9390\n",
      "\n",
      "\n",
      "6x6 mass matrix from eigensolution-based rb modes:\n",
      "\n",
      "\t      1.7551       -0.0000       -0.0000       -0.0000     -263.2578     -263.2578\n",
      "\t     -0.0000        1.7551        0.0000      263.2578        0.0000      772.2199\n",
      "\t     -0.0000        0.0000        1.7551      263.2578     -772.2199        0.0000\n",
      "\t     -0.0000      263.2578      263.2578   114882.5343  -115832.9863   115832.9863\n",
      "\t   -263.2578        0.0000     -772.2199  -115832.9863   747465.3910    39598.2243\n",
      "\t   -263.2578      772.2199        0.0000   115832.9863    39598.2243   747465.3910\n",
      "\n",
      "\n"
     ]
    }
   ],
   "source": [
    "prt(output[47:79])"
   ]
  },
  {
   "cell_type": "markdown",
   "metadata": {
    "collapsed": true
   },
   "source": [
    "---\n",
    "CG location comparison is next:"
   ]
  },
  {
   "cell_type": "code",
   "execution_count": 14,
   "metadata": {
    "collapsed": false
   },
   "outputs": [
    {
     "name": "stdout",
     "output_type": "stream",
     "text": [
      "Comparisons from mass properties:\n",
      "\n",
      "\tDistance to CG location from relevant reference point:\n",
      "\n",
      "\t\tRB-Mode from                    X               Y               Z\n",
      "\t\t------------              ---------------------------------------------\n",
      "\t\t   Stiffness               439.998351      150.000000     -150.000000\n",
      "\t\t   Geometry               1039.998351      150.000000      150.000000\n",
      "\t\t   Eigensolution           439.998351      150.000000     -150.000000\n",
      "\n"
     ]
    }
   ],
   "source": [
    "prt(output[79:89])"
   ]
  },
  {
   "cell_type": "markdown",
   "metadata": {},
   "source": [
    "---\n",
    "Radius of gyration checks are next. The radius of gyration about an axis is the radius where all the mass would be if all the mass were at a single radius. These values should make sense with your structure. If a radius is beyond your dimensions for example, you know something is wrong (yes, this has happened ... due to a badly written CONM1 or CONM2 Nastran card)."
   ]
  },
  {
   "cell_type": "code",
   "execution_count": 15,
   "metadata": {
    "collapsed": false
   },
   "outputs": [
    {
     "name": "stdout",
     "output_type": "stream",
     "text": [
      "\n",
      "\tRadius of gyration about X, Y, Z axes (from CG):\n",
      "\n",
      "\t\tRB-Mode from                    X               Y               Z\n",
      "\t\t------------              ---------------------------------------------\n",
      "\t\t   Stiffness               143.032166      458.033929      458.033929\n",
      "\t\t   Geometry                143.032166      458.033929      458.033929\n",
      "\t\t   Eigensolution           143.032166      458.033929      458.033929\n",
      "\n",
      "\tRadius of gyration about principal axes (from CG):\n",
      "\n",
      "\t\tRB-Mode from                    1               2               3\n",
      "\t\t------------              ---------------------------------------------\n",
      "\t\t   Stiffness               143.032166      457.965780      458.102068\n",
      "\t\t   Geometry                143.032166      457.965780      458.102068\n",
      "\t\t   Eigensolution           143.032166      457.965780      458.102068\n",
      "\n",
      "\n"
     ]
    }
   ],
   "source": [
    "prt(output[89:107])"
   ]
  },
  {
   "cell_type": "markdown",
   "metadata": {},
   "source": [
    "---\n",
    "Inertia values are printed next for inspection:"
   ]
  },
  {
   "cell_type": "code",
   "execution_count": 16,
   "metadata": {
    "collapsed": false
   },
   "outputs": [
    {
     "name": "stdout",
     "output_type": "stream",
     "text": [
      "Stiffness-based Inertia Matrix @ CG about X,Y,Z:\n",
      "\n",
      "\t\t  35905.2022        0.0000       -0.0000\n",
      "\t\t      0.0000   368201.2386      109.5583\n",
      "\t\t     -0.0000      109.5583   368201.2386\n",
      "\n",
      "\tPrincipal Axis Moments of Inertia:\n",
      "\n",
      "\t\t  35905.2022   368091.6803   368310.7968\n",
      "\n",
      "\n",
      "Geometry-based Inertia Matrix @ CG about X,Y,Z:\n",
      "\n",
      "\t\t  35905.2022       -0.0000        0.0000\n",
      "\t\t     -0.0000   368201.2386      109.5583\n",
      "\t\t      0.0000      109.5583   368201.2386\n",
      "\n",
      "\tPrincipal Axis Moments of Inertia:\n",
      "\n",
      "\t\t  35905.2022   368091.6803   368310.7968\n",
      "\n",
      "\n",
      "Eigensolution-based Inertia Matrix @ CG about X,Y,Z:\n",
      "\n",
      "\t\t  35905.2022        0.0000        0.0000\n",
      "\t\t      0.0000   368201.2386      109.5583\n",
      "\t\t      0.0000      109.5583   368201.2386\n",
      "\n",
      "\tPrincipal Axis Moments of Inertia:\n",
      "\n",
      "\t\t  35905.2022   368091.6803   368310.7968\n",
      "\n",
      "\n"
     ]
    }
   ],
   "source": [
    "prt(output[107:140])"
   ]
  },
  {
   "cell_type": "markdown",
   "metadata": {},
   "source": [
    "---\n",
    "Grounding checks are next. This is likely the largest section. This model is very clean. Note that the grounding forces for the geometry-based rigid-body modes can only include the b-set while the other two include the q-set.\n",
    "\n",
    "If the stiffness and eigenvalue based checks are good, but the geometry one is not good, it probably means you have a mistake in your USET table (bad coordinate system, incorrect grid location, or the grids are in the wrong order)."
   ]
  },
  {
   "cell_type": "code",
   "execution_count": 17,
   "metadata": {
    "collapsed": false
   },
   "outputs": [
    {
     "name": "stdout",
     "output_type": "stream",
     "text": [
      "GROUNDING CHECKS:\n",
      "\n",
      "                            K*RB using stiffness-based rb modes:\n",
      "DOF                    X           Y           Z           RX          RY          RZ\n",
      "-------------     --------------------------------------------------------------------\n",
      "       3   1        -0.000      -0.000      -0.000      -0.000       0.000       0.000\n",
      "       3   2        -0.000       0.000       0.000       0.000      -0.000       0.000\n",
      "       3   3         0.000       0.000       0.000       0.000      -0.000       0.000\n",
      "       3   4        -0.000       0.000       0.000       0.005      -0.002       0.003\n",
      "       3   5         0.000      -0.000      -0.000      -0.002       0.012      -0.001\n",
      "       3   6         0.000       0.000       0.000       0.004      -0.001       0.010\n",
      "      11   1        -0.000      -0.000      -0.000      -0.000      -0.000       0.000\n",
      "      11   2        -0.000      -0.000       0.000      -0.000      -0.000       0.000\n",
      "      11   3         0.000       0.000      -0.000       0.000       0.000      -0.000\n",
      "      11   4        -0.000       0.000      -0.000      -0.000      -0.000      -0.000\n",
      "      11   5         0.000       0.000      -0.000      -0.000       0.000       0.000\n",
      "      11   6         0.000       0.000      -0.000      -0.000       0.000       0.000\n",
      "      19   1         0.000       0.000       0.000      -0.000       0.000      -0.000\n",
      "      19   2        -0.000      -0.000      -0.000      -0.000      -0.000       0.000\n",
      "      19   3        -0.000      -0.000       0.000      -0.000      -0.000       0.000\n",
      "      19   4        -0.000      -0.000      -0.000      -0.000      -0.000       0.000\n",
      "      19   5        -0.000      -0.000       0.000      -0.000       0.000      -0.000\n",
      "      19   6         0.000       0.000      -0.000       0.000      -0.000      -0.000\n",
      "      27   1         0.000       0.000      -0.000      -0.000      -0.000      -0.000\n",
      "      27   2         0.000       0.000      -0.000       0.000       0.000      -0.000\n",
      "      27   3         0.000       0.000      -0.000       0.000      -0.000      -0.000\n",
      "      27   4         0.000      -0.000       0.000      -0.000      -0.000       0.000\n",
      "      27   5        -0.000       0.000      -0.000      -0.000      -0.000       0.000\n",
      "      27   6        -0.000      -0.000       0.000       0.000       0.000      -0.000\n",
      "  modal     1        0.000       0.000       0.000       0.000       0.000       0.000\n",
      "  modal     2        0.000       0.000       0.000       0.000       0.000       0.000\n",
      "  modal     3        0.000       0.000       0.000       0.000       0.000       0.000\n",
      "  modal     4        0.000       0.000       0.000       0.000       0.000       0.000\n",
      "  modal     5        0.000       0.000       0.000       0.000       0.000       0.000\n",
      "  modal     6        0.000       0.000       0.000       0.000       0.000       0.000\n",
      "  modal     7        0.000       0.000       0.000       0.000       0.000       0.000\n",
      "  modal     8        0.000       0.000       0.000       0.000       0.000       0.000\n",
      "\n",
      "Summation of stiffness-based rb-forces: RB'*K*RB:\n",
      "\n",
      "\t    -0.000      -0.000      -0.000      -0.000       0.000       0.000\n",
      "\t    -0.000       0.000       0.000       0.000      -0.000       0.000\n",
      "\t    -0.000       0.000       0.000       0.000      -0.000       0.000\n",
      "\t    -0.000       0.000       0.000       0.005      -0.002       0.003\n",
      "\t     0.000      -0.000      -0.000      -0.002       0.012      -0.001\n",
      "\t     0.000       0.000       0.000       0.003      -0.001       0.010\n",
      "\n",
      "\n",
      "                            K*RB using geometry-based rb modes:\n",
      "DOF                    X           Y           Z           RX          RY          RZ\n",
      "-------------     --------------------------------------------------------------------\n",
      "       3   1        -0.000       0.000      -0.000      -0.000       0.000       0.000\n",
      "       3   2        -0.000       0.000      -0.000      -0.000       0.000       0.000\n",
      "       3   3         0.000      -0.000       0.000       0.000      -0.000      -0.000\n",
      "       3   4        -0.000      -0.000      -0.000      -0.000       0.000      -0.001\n",
      "       3   5         0.000      -0.000       0.000       0.000      -0.001      -0.003\n",
      "       3   6         0.000      -0.000       0.000       0.000      -0.003      -0.001\n",
      "      11   1         0.000       0.000       0.000      -0.000      -0.000       0.000\n",
      "      11   2         0.000       0.000       0.000       0.000      -0.000       0.000\n",
      "      11   3        -0.000      -0.000      -0.000       0.000       0.000      -0.000\n",
      "      11   4         0.000       0.000       0.000      -0.000      -0.002       0.003\n",
      "      11   5        -0.000      -0.000      -0.000      -0.000       0.003      -0.002\n",
      "      11   6         0.000      -0.000       0.000      -0.000      -0.001      -0.000\n",
      "      19   1        -0.000      -0.000       0.000       0.000      -0.000      -0.000\n",
      "      19   2         0.000       0.000      -0.000       0.000       0.000       0.000\n",
      "      19   3        -0.000      -0.000       0.000       0.000      -0.000      -0.000\n",
      "      19   4         0.000       0.000       0.000      -0.000      -0.001       0.001\n",
      "      19   5         0.000      -0.000       0.000       0.000      -0.001      -0.003\n",
      "      19   6         0.000      -0.000       0.000       0.000      -0.003      -0.001\n",
      "      27   1        -0.000       0.000       0.000      -0.000      -0.000       0.000\n",
      "      27   2        -0.000       0.000       0.000       0.000      -0.000       0.000\n",
      "      27   3        -0.000       0.000       0.000      -0.000      -0.000       0.000\n",
      "      27   4        -0.000       0.000      -0.000      -0.000       0.000       0.000\n",
      "      27   5        -0.000       0.000       0.000      -0.000      -0.002       0.003\n",
      "      27   6        -0.000      -0.000      -0.000      -0.000       0.003      -0.002\n",
      "\n",
      "Summation of geometry-based rb-forces: RB'*K*RB:\n",
      "\n",
      "\t    -0.000      -0.000      -0.000      -0.000      -0.000       0.000\n",
      "\t    -0.000       0.000       0.000      -0.000      -0.000       0.000\n",
      "\t     0.000       0.000       0.000       0.000      -0.000       0.000\n",
      "\t     0.000      -0.000       0.000       0.004      -0.005      -0.008\n",
      "\t    -0.000      -0.000      -0.000      -0.005       0.049      -0.007\n",
      "\t     0.000       0.000       0.000      -0.004      -0.005       0.050\n",
      "\n",
      "\n",
      "                            K*RB using eigensolution-based rb modes:\n",
      "DOF                    X           Y           Z           RX          RY          RZ\n",
      "-------------     --------------------------------------------------------------------\n",
      "       3   1        -0.000       0.000      -0.000       0.000       0.000       0.000\n",
      "       3   2        -0.000       0.000      -0.000       0.000       0.000       0.000\n",
      "       3   3         0.000      -0.000       0.000       0.000      -0.000      -0.000\n",
      "       3   4        -0.000       0.000       0.000      -0.000       0.000      -0.000\n",
      "       3   5        -0.000      -0.000      -0.000      -0.000       0.001      -0.002\n",
      "       3   6        -0.000      -0.000       0.000       0.001      -0.001      -0.001\n",
      "      11   1         0.000      -0.000      -0.000       0.000      -0.000      -0.000\n",
      "      11   2         0.000       0.000      -0.000       0.000      -0.000       0.000\n",
      "      11   3         0.000      -0.000       0.000      -0.000       0.000      -0.000\n",
      "      11   4         0.000       0.000       0.000       0.001      -0.002       0.002\n",
      "      11   5         0.000      -0.000      -0.000      -0.002       0.002      -0.001\n",
      "      11   6        -0.000      -0.000       0.000       0.000      -0.000      -0.000\n",
      "      19   1        -0.000      -0.000      -0.000       0.000      -0.000      -0.000\n",
      "      19   2         0.000       0.000       0.000       0.000      -0.000       0.000\n",
      "      19   3        -0.000      -0.000      -0.000      -0.000       0.000       0.000\n",
      "      19   4         0.000       0.000       0.000       0.000      -0.001       0.000\n",
      "      19   5        -0.000      -0.000      -0.000      -0.001       0.001      -0.002\n",
      "      19   6        -0.000      -0.000      -0.000       0.000      -0.000      -0.001\n",
      "      27   1         0.000      -0.000       0.000      -0.000      -0.000       0.000\n",
      "      27   2        -0.000      -0.000       0.000      -0.000      -0.000      -0.000\n",
      "      27   3        -0.000      -0.000       0.000      -0.000      -0.000       0.000\n",
      "      27   4         0.000       0.000       0.000      -0.000      -0.000       0.000\n",
      "      27   5         0.000       0.000       0.000       0.001      -0.002       0.002\n",
      "      27   6        -0.000       0.000      -0.000      -0.001       0.002      -0.001\n",
      "  modal     1        0.000      -0.000      -0.000      -0.000       0.000      -0.000\n",
      "  modal     2       -0.000      -0.000       0.000      -0.000      -0.000       0.000\n",
      "  modal     3        0.000       0.000       0.000      -0.000      -0.000      -0.000\n",
      "  modal     4       -0.000       0.000      -0.000       0.000       0.000       0.000\n",
      "  modal     5        0.000      -0.000      -0.000      -0.000      -0.000      -0.000\n",
      "  modal     6       -0.000      -0.000      -0.000      -0.000       0.000       0.000\n",
      "  modal     7        0.000       0.000       0.000       0.000      -0.000       0.000\n",
      "  modal     8       -0.000       0.000       0.000      -0.000       0.000       0.000\n",
      "\n",
      "Summation of eigensolution-based rb-forces: RB'*K*RB:\n",
      "\n",
      "\t    -0.000      -0.000      -0.000      -0.000       0.000       0.000\n",
      "\t    -0.000       0.000       0.000       0.000      -0.000       0.000\n",
      "\t     0.000       0.000       0.000       0.000      -0.000       0.000\n",
      "\t    -0.000       0.000       0.000       0.005      -0.002       0.004\n",
      "\t     0.000      -0.000      -0.000      -0.002       0.012      -0.001\n",
      "\t     0.000       0.000       0.000       0.004      -0.001       0.010\n",
      "\n",
      "\n"
     ]
    }
   ],
   "source": [
    "prt(output[140:272])"
   ]
  },
  {
   "cell_type": "markdown",
   "metadata": {},
   "source": [
    "---\n",
    "The free-free mode check is next. The rigid-body modes should be close to zero frequency. (I actually depend on this more than the grounding checks above to check for grounding.) As noted previously, this model is very clean."
   ]
  },
  {
   "cell_type": "code",
   "execution_count": 18,
   "metadata": {
    "collapsed": false
   },
   "outputs": [
    {
     "name": "stdout",
     "output_type": "stream",
     "text": [
      "FREE-FREE MODES:\n",
      "\n",
      "\tMode   Frequency (Hz)\n",
      "\t----   --------------\n",
      "\t   1         0.000021\n",
      "\t   2         0.000024\n",
      "\t   3         0.000041\n",
      "\t   4         0.000045\n",
      "\t   5         0.000046\n",
      "\t   6         0.000059\n",
      "\t   7        47.926681\n",
      "\t   8        47.985939\n",
      "\t   9        53.273647\n",
      "\t  10       137.646420\n",
      "\t  11       156.953727\n",
      "\t  12       158.291832\n",
      "\t  13       245.776945\n",
      "\t  14       245.776945\n",
      "\t  15       278.650359\n",
      "\t  16       291.228161\n",
      "\t  17       296.280852\n",
      "\t  18       304.217218\n",
      "\t  19       429.385190\n",
      "\t  20      1479.543087\n",
      "\t  21      1509.151143\n",
      "\t  22      1611.251104\n",
      "\t  23      2421.562963\n",
      "\t  24      2421.562963\n",
      "\t  25      2520.830498\n",
      "\t  26      2521.519546\n",
      "\t  27      2644.462658\n",
      "\t  28      5434.622103\n",
      "\t  29      5772.710467\n",
      "\t  30      5824.060909\n",
      "\t  31     60663.922439\n",
      "\t  32              inf\n",
      "\n",
      "\n"
     ]
    }
   ],
   "source": [
    "prt(output[272:310])"
   ]
  },
  {
   "cell_type": "markdown",
   "metadata": {},
   "source": [
    "---\n",
    "The last section prints the modal effective mass using the geometry-based rb modes. This should match the provided documentation if there is any."
   ]
  },
  {
   "cell_type": "code",
   "execution_count": 19,
   "metadata": {
    "collapsed": false
   },
   "outputs": [
    {
     "name": "stdout",
     "output_type": "stream",
     "text": [
      "FIXED-BASE MODES w/ Percent Modal Effective Mass:\n",
      "\n",
      "Using geometry-based rb modes for effective mass calcs.\n",
      "\n",
      "Printing only the modes with at least 2.0% effective mass.\n",
      "The sum includes all modes.\n",
      "\n",
      "Mode No.  Frequency (Hz)     T1      T2      T3      R1      R2      R3\n",
      "--------  --------------   ------  ------  ------  ------  ------  ------\n",
      "     1          6.129        0.00   31.93    6.06   22.62   12.10   63.68\n",
      "     2          6.130        0.00    6.06   31.93    3.49   63.68   12.09\n",
      "     3         23.632        0.00    0.00    0.00   25.13    0.00    0.00\n",
      "     4         70.511        0.00   30.78    0.90    7.26    0.39   13.09\n",
      "     5         70.792        0.00    0.91   30.91   14.57   13.14    0.38\n",
      "     6        104.809       44.47    0.00    0.00    0.00    0.76    0.76\n",
      "\n",
      "Total Effective Mass:       44.47   69.99   70.23   73.27   90.18   90.10\n"
     ]
    }
   ],
   "source": [
    "prt(output[310:])"
   ]
  }
 ],
 "metadata": {
  "kernelspec": {
   "display_name": "Python 3",
   "language": "python",
   "name": "python3"
  },
  "language_info": {
   "codemirror_mode": {
    "name": "ipython",
    "version": 3
   },
   "file_extension": ".py",
   "mimetype": "text/x-python",
   "name": "python",
   "nbconvert_exporter": "python",
   "pygments_lexer": "ipython3",
   "version": "3.5.1"
  }
 },
 "nbformat": 4,
 "nbformat_minor": 0
}
