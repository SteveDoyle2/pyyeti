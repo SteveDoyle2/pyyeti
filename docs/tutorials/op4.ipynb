{
 "cells": [
  {
   "cell_type": "markdown",
   "metadata": {},
   "source": [
    "# Reading and writing Nastran output4 files\n",
    "\n",
    "This and other notebooks are available here: ``kittyhawk:/home/loads/twidrick/code/pyyeti/docs/tutorials``."
   ]
  },
  {
   "cell_type": "markdown",
   "metadata": {},
   "source": [
    "First, do some imports:"
   ]
  },
  {
   "cell_type": "code",
   "execution_count": null,
   "metadata": {
    "collapsed": true
   },
   "outputs": [],
   "source": [
    "import numpy as np\n",
    "import os\n",
    "from pyyeti import op4"
   ]
  },
  {
   "cell_type": "markdown",
   "metadata": {},
   "source": [
    "Generate a couple matrices to write to disk:"
   ]
  },
  {
   "cell_type": "code",
   "execution_count": null,
   "metadata": {
    "collapsed": true
   },
   "outputs": [],
   "source": [
    "a = np.random.randn(4, 10)\n",
    "b = np.random.randn(5, 14)"
   ]
  },
  {
   "cell_type": "markdown",
   "metadata": {},
   "source": [
    "---\n",
    "#### Basic writing\n",
    "Write them to a file in a random order. By default, the file with be a native-endian binary and the matrices will be written in dense (non-sparse) format."
   ]
  },
  {
   "cell_type": "code",
   "execution_count": null,
   "metadata": {
    "collapsed": true
   },
   "outputs": [],
   "source": [
    "filename = 'rw_op4_demo.op4'\n",
    "op4.write(filename, dict(a=a, b=b))"
   ]
  },
  {
   "cell_type": "markdown",
   "metadata": {},
   "source": [
    "---\n",
    "#### Basic reading\n",
    "Read them back in and compare. The following reads the matrices into a dictionary:"
   ]
  },
  {
   "cell_type": "code",
   "execution_count": null,
   "metadata": {
    "collapsed": false
   },
   "outputs": [],
   "source": [
    "dct = op4.read(filename)\n",
    "assert np.all(dct['a'] == a)\n",
    "assert np.all(dct['b'] == b)"
   ]
  },
  {
   "cell_type": "markdown",
   "metadata": {},
   "source": [
    "The \"pretty-print\" class from pyYeti can help in viewing the dictionary:"
   ]
  },
  {
   "cell_type": "code",
   "execution_count": null,
   "metadata": {
    "collapsed": false
   },
   "outputs": [],
   "source": [
    "from pyyeti.pp import PP\n",
    "PP(dct);"
   ]
  },
  {
   "cell_type": "markdown",
   "metadata": {},
   "source": [
    "---\n",
    "If you need the form and type, set the `justmatrix` option to False (or use the `load` function ... it is the same as `read` except the default on `justmatrix`). In this case, dictionary entry is a 3-element tuple: (matrix, form, type):"
   ]
  },
  {
   "cell_type": "code",
   "execution_count": null,
   "metadata": {
    "collapsed": false
   },
   "outputs": [],
   "source": [
    "dct = op4.read(filename, justmatrix=False)\n",
    "assert np.all(dct['a'][0] == a)\n",
    "assert np.all(dct['b'][0] == b)\n",
    "PP(dct);"
   ]
  },
  {
   "cell_type": "markdown",
   "metadata": {},
   "source": [
    "---\n",
    "#### Ascii save\n",
    "\n",
    "As noted above, matrices are written in binary by default. To write in ASCII format, set `binary` to False:"
   ]
  },
  {
   "cell_type": "code",
   "execution_count": null,
   "metadata": {
    "collapsed": true
   },
   "outputs": [],
   "source": [
    "op4.write(filename, dict(a=a, b=b), binary=False)"
   ]
  },
  {
   "cell_type": "code",
   "execution_count": null,
   "metadata": {
    "collapsed": false
   },
   "outputs": [],
   "source": [
    "with open(filename) as f:\n",
    "    for i in range(5):\n",
    "        print(f.readline().strip())"
   ]
  },
  {
   "cell_type": "markdown",
   "metadata": {},
   "source": [
    "---\n",
    "#### Writing in a certain order\n",
    "To ensure that \"`b`\" gets saved before \"`a`\" you have to use the list inputs."
   ]
  },
  {
   "cell_type": "code",
   "execution_count": null,
   "metadata": {
    "collapsed": false
   },
   "outputs": [],
   "source": [
    "op4.write(filename, ['b', 'a'], [b, a], binary=False)\n",
    "with open(filename) as f:\n",
    "    for i in range(5):\n",
    "        print(f.readline().strip())"
   ]
  },
  {
   "cell_type": "markdown",
   "metadata": {},
   "source": [
    "---\n",
    "#### Reading into list\n",
    "If the output4 file has duplicate names, you'll have to read the variables into a list:"
   ]
  },
  {
   "cell_type": "code",
   "execution_count": null,
   "metadata": {
    "collapsed": false
   },
   "outputs": [],
   "source": [
    "b2 = b + 10\n",
    "op4.write(filename, ['b', 'a', 'b'], [b, a, b2])\n",
    "names, mats, *_ = op4.read(filename, into='list')\n",
    "names"
   ]
  },
  {
   "cell_type": "code",
   "execution_count": null,
   "metadata": {
    "collapsed": false
   },
   "outputs": [],
   "source": [
    "assert np.all(b == mats[0])\n",
    "assert np.all(a == mats[1])\n",
    "assert np.all(b2 == mats[2])"
   ]
  },
  {
   "cell_type": "markdown",
   "metadata": {},
   "source": [
    "---\n",
    "#### Reading and writing sparse matrices\n",
    "There are two aspects to \"sparse\" for this module:\n",
    "\n",
    "1. There's the on-disk format. Matrices can be written in \"dense\" or one of the two sparse formats: either \"bigmat\" or \"nonbigmat\". The writing format is controlled by the `sparse` option of the ``write`` function.\n",
    "\n",
    "2. There's also the in-memory format. Matrices can be read into regular ``numpy.ndarray`` matrices or into ``scipy.sparse`` sparse matrices. This is controlled by the `sparse` option of the ``read`` or ``load`` functions.\n",
    "\n",
    "These two aspects are independent of each other. For example, ``numpy.ndarray`` matrices can be written in a sparse format and matrices written in the dense format can be read into ``scipy.sparse`` matrices."
   ]
  },
  {
   "cell_type": "markdown",
   "metadata": {},
   "source": [
    "To work with sparse matrices, we'll need the ``scipy.sparse`` module:"
   ]
  },
  {
   "cell_type": "code",
   "execution_count": null,
   "metadata": {
    "collapsed": true
   },
   "outputs": [],
   "source": [
    "import scipy.sparse as sp"
   ]
  },
  {
   "cell_type": "markdown",
   "metadata": {},
   "source": [
    "First, create a 5 million by 5 million sparse matrix with just 3 elements to experiment with:"
   ]
  },
  {
   "cell_type": "code",
   "execution_count": null,
   "metadata": {
    "collapsed": false
   },
   "outputs": [],
   "source": [
    "data = [2.3, 5, -100.4]\n",
    "rows = [2, 500000, 350000]\n",
    "cols = [3750000, 500000, 4999999]\n",
    "a = sp.csr_matrix((data, (rows, cols)), shape=(5000000, 5000000))\n",
    "a"
   ]
  },
  {
   "cell_type": "code",
   "execution_count": null,
   "metadata": {
    "collapsed": false
   },
   "outputs": [],
   "source": [
    "print(a)"
   ]
  },
  {
   "cell_type": "markdown",
   "metadata": {},
   "source": [
    "Save matrix to op4 file. Note: ``sparse='bigmat'`` is the default for ``scipy.sparse`` matrices. But, it doesn't hurt to specify it explicitly:"
   ]
  },
  {
   "cell_type": "code",
   "execution_count": null,
   "metadata": {
    "collapsed": true
   },
   "outputs": [],
   "source": [
    "op4.write(filename, dict(a=a), sparse='bigmat')"
   ]
  },
  {
   "cell_type": "markdown",
   "metadata": {},
   "source": [
    "Read matrix back in. The default when reading *any* matrix is to create regular ``numpy.ndarray`` matrices. Therefore, the `sparse` option is required here:"
   ]
  },
  {
   "cell_type": "code",
   "execution_count": null,
   "metadata": {
    "collapsed": false
   },
   "outputs": [],
   "source": [
    "dct = op4.read(filename, sparse=True)\n",
    "dct"
   ]
  },
  {
   "cell_type": "markdown",
   "metadata": {},
   "source": [
    "All sparse matrices are returned in the COO format by default. To get the sparse matrix in the CSR format (for example) instead of the COO format, you can specify the `sparse` option as a two-tuple:"
   ]
  },
  {
   "cell_type": "code",
   "execution_count": null,
   "metadata": {
    "collapsed": false
   },
   "outputs": [],
   "source": [
    "dct = op4.read(filename, sparse=(True, sp.coo_matrix.tocsr))\n",
    "dct"
   ]
  },
  {
   "cell_type": "markdown",
   "metadata": {},
   "source": [
    "Clean up:"
   ]
  },
  {
   "cell_type": "code",
   "execution_count": null,
   "metadata": {
    "collapsed": true
   },
   "outputs": [],
   "source": [
    "os.remove(filename)"
   ]
  }
 ],
 "metadata": {
  "kernelspec": {
   "display_name": "Python 3",
   "language": "python",
   "name": "python3"
  },
  "language_info": {
   "codemirror_mode": {
    "name": "ipython",
    "version": 3
   },
   "file_extension": ".py",
   "mimetype": "text/x-python",
   "name": "python",
   "nbconvert_exporter": "python",
   "pygments_lexer": "ipython3",
   "version": "3.6.0"
  }
 },
 "nbformat": 4,
 "nbformat_minor": 0
}
