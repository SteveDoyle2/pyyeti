{
 "cells": [
  {
   "cell_type": "markdown",
   "metadata": {},
   "source": [
    "# Fatigue damage equivalent PSDs"
   ]
  },
  {
   "cell_type": "markdown",
   "metadata": {},
   "source": [
    "First, do some imports:"
   ]
  },
  {
   "cell_type": "code",
   "execution_count": null,
   "metadata": {
    "collapsed": true
   },
   "outputs": [],
   "source": [
    "import numpy as np\n",
    "import matplotlib.pyplot as plt\n",
    "from pyyeti import psd, fdepsd\n",
    "import scipy.signal as signal"
   ]
  },
  {
   "cell_type": "markdown",
   "metadata": {},
   "source": [
    "Some settings specifically for the jupyter notebook. This and other notebooks are available here: ``kittyhawk:/home/loads/twidrick/code/pyyeti/docs/tutorials``."
   ]
  },
  {
   "cell_type": "code",
   "execution_count": null,
   "metadata": {
    "collapsed": true
   },
   "outputs": [],
   "source": [
    "%matplotlib inline\n",
    "plt.rcParams['figure.figsize'] = [8.0, 6.0]\n",
    "plt.rcParams['savefig.dpi'] = 100."
   ]
  },
  {
   "cell_type": "markdown",
   "metadata": {},
   "source": [
    "#### Generate a signal with flat content from 20 to 50 Hz"
   ]
  },
  {
   "cell_type": "code",
   "execution_count": null,
   "metadata": {
    "collapsed": false
   },
   "outputs": [],
   "source": [
    "TF = 60  # make a 60 second signal\n",
    "spec = [[20, 1], [50, 1]]\n",
    "sig, sr, t = psd.psd2time(spec, ppc=10, fstart=20,\n",
    "                          fstop=50, df=1/TF,\n",
    "                          winends=dict(portion=10),\n",
    "                          gettime=True)\n",
    "plt.plot(t, sig)\n",
    "plt.title(r'Input Signal - Specification Level = '\n",
    "           '1.0 $g^{2}$/Hz')\n",
    "plt.xlabel('Time (sec)')\n",
    "h = plt.ylabel('Acceleration (g)')"
   ]
  },
  {
   "cell_type": "markdown",
   "metadata": {},
   "source": [
    "---\n",
    "#### Compute fatigue damage equivalent PSDs using two different methods\n",
    "One will use absolute-acceleration and the other will use pseudo-velocity. The plots will compare the G1 and G8 outputs. The output of the `fdepsd` function is a SimpleNamespace with several items; the main output is in the ``.psd`` member which has G1, G2, G4, G8 and G12 as columns in an array."
   ]
  },
  {
   "cell_type": "code",
   "execution_count": null,
   "metadata": {
    "collapsed": true
   },
   "outputs": [],
   "source": [
    "freq = np.arange(20., 50.1)\n",
    "Q = 10\n",
    "fde_acce = fdepsd.fdepsd(sig, sr, freq, Q)\n",
    "fde_pvelo = fdepsd.fdepsd(sig, sr, freq, Q, resp='pvelo')"
   ]
  },
  {
   "cell_type": "code",
   "execution_count": null,
   "metadata": {
    "collapsed": false
   },
   "outputs": [],
   "source": [
    "plt.plot(freq, fde_acce.psd[:, 0], label='G1, Accel-based')\n",
    "plt.plot(freq, fde_pvelo.psd[:, 0], label='G1, PVelo-based')\n",
    "plt.plot(freq, fde_acce.psd[:, 3], label='G8, Accel-based')\n",
    "plt.plot(freq, fde_pvelo.psd[:, 3], label='G8, PVelo-based')\n",
    "plt.title('G1 and G8 PSD Comparison')\n",
    "plt.xlabel('Freq (Hz)')\n",
    "plt.ylabel(r'PSD ($g^{2}$/Hz)')\n",
    "h = plt.legend(loc='best')"
   ]
  },
  {
   "cell_type": "markdown",
   "metadata": {},
   "source": [
    "---\n",
    "#### Compute fatigue damage equivalent PSDs to compare with standard PSDs\n",
    "Form envelope over Q's of 10, 25, 50."
   ]
  },
  {
   "cell_type": "code",
   "execution_count": null,
   "metadata": {
    "collapsed": false
   },
   "outputs": [],
   "source": [
    "psdenv = 0\n",
    "freq = np.arange(20., 50.1)\n",
    "for q in (10, 25, 50):\n",
    "    fde = fdepsd.fdepsd(sig, sr, freq, q)\n",
    "    psdenv = np.fmax(psdenv, fde.psd)"
   ]
  },
  {
   "cell_type": "markdown",
   "metadata": {},
   "source": [
    "#### Compute standard Welch periodogram and use `psd.psdmod` for comparison"
   ]
  },
  {
   "cell_type": "code",
   "execution_count": null,
   "metadata": {
    "collapsed": false
   },
   "outputs": [],
   "source": [
    "f, p = signal.welch(sig, sr, nperseg=sr)\n",
    "f2, p2 = psd.psdmod(4, .5, sig, sr, nperseg=sr)"
   ]
  },
  {
   "cell_type": "markdown",
   "metadata": {},
   "source": [
    "#### Plot fatigue damage equivalents and the standard PSDs"
   ]
  },
  {
   "cell_type": "code",
   "execution_count": null,
   "metadata": {
    "collapsed": false
   },
   "outputs": [],
   "source": [
    "spec = np.array(spec).T\n",
    "plt.plot(*spec, 'k-', lw=1.5, label='Spec')\n",
    "plt.plot(f, p, label='Welch PSD')\n",
    "plt.plot(f2, p2, label='PSDmod')\n",
    "plt.xlim(20, 50)\n",
    "plt.title('PSD Comparison')\n",
    "plt.xlabel('Freq (Hz)')\n",
    "plt.ylabel(r'PSD ($g^{2}$/Hz)')\n",
    "plt.plot(freq, psdenv[:, 0], label='G1 env')\n",
    "plt.plot(freq, psdenv[:, 1], label='G2 env')\n",
    "plt.plot(freq, psdenv[:, 2], label='G4 env')\n",
    "plt.plot(freq, psdenv[:, 3], label='G8 env')\n",
    "plt.plot(freq, psdenv[:, 4], label='G12 env')\n",
    "h = plt.legend(loc='upper left',\n",
    "               bbox_to_anchor=(1.02, 1.),\n",
    "               borderaxespad=0.)"
   ]
  },
  {
   "cell_type": "markdown",
   "metadata": {},
   "source": [
    "---\n",
    "#### Compare cycle count results for 30 Hz to theoretical\n",
    "This will be for Q = 50 since that was the last one run above."
   ]
  },
  {
   "cell_type": "code",
   "execution_count": null,
   "metadata": {
    "collapsed": false
   },
   "outputs": [],
   "source": [
    "j = np.searchsorted(freq, 30)\n",
    "Frq = freq[j]\n",
    "\n",
    "# First, plot counts vs. amplitude**2 from the data:\n",
    "plt.semilogy(fde.binamps[j]**2, fde.count[j], label='Data')\n",
    "\n",
    "# Compute theoretical curve: (use flight time here (TF),\n",
    "# not test time (T0))\n",
    "\n",
    "Amax2 = 2*fde.var[j]*np.log(Frq*TF)\n",
    "plt.plot([0, Amax2], [Frq*TF, 1], label='Theory')\n",
    "\n",
    "# Next, plot amp**2 vs total count for each PSD:\n",
    "y1 = fde.count[j, 0]  # first column of count is total cycles\n",
    "plt.plot([0, fde.amp[j, 0]**2], [y1, 1], label='G1')\n",
    "plt.plot([0, fde.amp[j, 1]**2], [y1, 1], label='G2')\n",
    "plt.plot([0, fde.amp[j, 2]**2], [y1, 1], label='G4')\n",
    "plt.plot([0, fde.amp[j, 3]**2], [y1, 1], label='G8')\n",
    "plt.plot([0, fde.amp[j, 4]**2], [y1, 1], label='G12')\n",
    "plt.title('Bin Count Check for Q=50, Freq=30 Hz')\n",
    "plt.xlabel(r'$Amp^2$')\n",
    "plt.ylabel('Count')\n",
    "plt.grid()\n",
    "h = plt.legend(loc='best')"
   ]
  },
  {
   "cell_type": "code",
   "execution_count": null,
   "metadata": {
    "collapsed": true
   },
   "outputs": [],
   "source": []
  }
 ],
 "metadata": {
  "kernelspec": {
   "display_name": "Python 3",
   "language": "python",
   "name": "python3"
  },
  "language_info": {
   "codemirror_mode": {
    "name": "ipython",
    "version": 3
   },
   "file_extension": ".py",
   "mimetype": "text/x-python",
   "name": "python",
   "nbconvert_exporter": "python",
   "pygments_lexer": "ipython3",
   "version": "3.5.1"
  }
 },
 "nbformat": 4,
 "nbformat_minor": 0
}
